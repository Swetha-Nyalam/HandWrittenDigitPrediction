{
 "cells": [
  {
   "cell_type": "code",
   "execution_count": 224,
   "id": "bfb97467-575b-4699-8922-4f901497ae41",
   "metadata": {},
   "outputs": [],
   "source": [
    "from sklearn.datasets import load_digits\n",
    "import matplotlib.pyplot as plt\n",
    "import torch \n",
    "import numpy as np\n",
    "import torch.nn as nn\n",
    "from sklearn.model_selection import train_test_split\n",
    "import torch.nn.functional as F\n",
    "from sklearn.metrics import accuracy_score"
   ]
  },
  {
   "cell_type": "code",
   "execution_count": 225,
   "id": "9dd33ce8-6e73-4e45-b24e-316b45af1773",
   "metadata": {},
   "outputs": [],
   "source": [
    "digits = load_digits()"
   ]
  },
  {
   "cell_type": "code",
   "execution_count": 226,
   "id": "f92cc432-a659-4cc4-adb6-cd9b22f492e9",
   "metadata": {},
   "outputs": [],
   "source": [
    "X = digits.images\n",
    "y = digits.target"
   ]
  },
  {
   "cell_type": "code",
   "execution_count": 227,
   "id": "a03cea8b-e6fe-4667-aedc-834c3fb69d49",
   "metadata": {},
   "outputs": [
    {
     "name": "stdout",
     "output_type": "stream",
     "text": [
      "(1797, 8, 8)\n",
      "(1797,)\n"
     ]
    }
   ],
   "source": [
    "print(X.shape)\n",
    "print(y.shape)"
   ]
  },
  {
   "cell_type": "code",
   "execution_count": 228,
   "id": "6a929b50-01dc-4dec-b8ee-b48cd3d7e508",
   "metadata": {},
   "outputs": [
    {
     "name": "stdout",
     "output_type": "stream",
     "text": [
      "(1437,)\n"
     ]
    }
   ],
   "source": [
    "train_x, val_x, train_y, val_y = train_test_split(X, y, stratify = y, test_size = 0.2)\n",
    "#train_x = train_x[0:100]\n",
    "#train_y = train_y[0:100]\n",
    "print(train_y.shape)"
   ]
  },
  {
   "cell_type": "code",
   "execution_count": 229,
   "id": "afb1f5f8-a824-41e7-8079-a3fdfc4f3d84",
   "metadata": {},
   "outputs": [
    {
     "name": "stdout",
     "output_type": "stream",
     "text": [
      "torch.Size([1437, 64])\n"
     ]
    }
   ],
   "source": [
    "train_x = torch.tensor(train_x, dtype=torch.float32)\n",
    "train_y = torch.tensor(train_y)\n",
    "val_x = torch.tensor(val_x, dtype=torch.float32)\n",
    "x_reshaped = torch.flatten(train_x, start_dim=1)\n",
    "val_x = torch.flatten(val_x, start_dim=1)\n",
    "print(x_reshaped.shape)"
   ]
  },
  {
   "cell_type": "code",
   "execution_count": 230,
   "id": "1708122a-2230-47cf-bda9-9c47df92f50f",
   "metadata": {},
   "outputs": [
    {
     "data": {
      "text/plain": [
       "tensor([[0., 0., 1.,  ..., 0., 0., 0.],\n",
       "        [0., 0., 0.,  ..., 0., 0., 0.],\n",
       "        [0., 0., 1.,  ..., 0., 0., 0.],\n",
       "        ...,\n",
       "        [0., 0., 0.,  ..., 0., 1., 0.],\n",
       "        [0., 0., 0.,  ..., 0., 0., 0.],\n",
       "        [0., 0., 0.,  ..., 0., 0., 0.]])"
      ]
     },
     "execution_count": 230,
     "metadata": {},
     "output_type": "execute_result"
    }
   ],
   "source": [
    "num_classes = 10\n",
    "\n",
    "# One-hot encoding\n",
    "one_hot = torch.zeros(len(train_y), num_classes)\n",
    "one_hot.scatter_(1, train_y.unsqueeze(1), 1)"
   ]
  },
  {
   "cell_type": "markdown",
   "id": "4e86dfd2-e4f7-4225-8b02-7837b55fb8e9",
   "metadata": {},
   "source": [
    "The neural network consists of an input layer with 64 nodes, followed by two hidden layers with 32 and 16 nodes respectively. The final layer is a sigmoid activation function with 10 output nodes, each representing the probability of the model predicting one of the 10 possible numbers"
   ]
  },
  {
   "cell_type": "code",
   "execution_count": 231,
   "id": "6694d0b7-3b6d-4766-a879-906b185bf682",
   "metadata": {},
   "outputs": [],
   "source": [
    "class DigitPrediction(nn.Module):\n",
    "    def __init__(self, input_size: int):\n",
    "        super().__init__()\n",
    "        self.l1 = nn.Linear(input_size, 32, dtype=torch.float32)\n",
    "        self.l2 = nn.Linear(32, 10, dtype=torch.float32)\n",
    "        self.softmax = nn.Softmax(dim = 1)\n",
    "\n",
    "    def forward(self, x):\n",
    "        out_prob = self.l2(self.l1(x))\n",
    "        y_pred = self.softmax (out_prob)\n",
    "        return y_pred"
   ]
  },
  {
   "cell_type": "code",
   "execution_count": 232,
   "id": "896d96b5-be1b-4a1d-9c8f-9824e6e7460c",
   "metadata": {},
   "outputs": [],
   "source": [
    "model = DigitPrediction(64)"
   ]
  },
  {
   "cell_type": "code",
   "execution_count": 233,
   "id": "52279070-db2a-4a60-8401-eb7c373cbbd5",
   "metadata": {},
   "outputs": [],
   "source": [
    "loss_fn = nn.BCELoss() \n",
    "optimizer = torch.optim.SGD(model.parameters(), lr=0.1)"
   ]
  },
  {
   "cell_type": "code",
   "execution_count": 234,
   "id": "4792bde4-5dc6-45bd-94a0-19174e4e6aa3",
   "metadata": {},
   "outputs": [],
   "source": [
    "no_of_epochs = 150\n",
    "all_losses= []\n",
    "\n",
    "for _ in range(no_of_epochs):\n",
    "    y_pred = model(x_reshaped)\n",
    "    max_index = torch.argmax(y_pred, dim=1).float()\n",
    "    loss = loss_fn(y_pred, one_hot)\n",
    "    all_losses.append(loss.detach().numpy())\n",
    "    optimizer.zero_grad()\n",
    "    loss.backward()\n",
    "    optimizer.step()\n",
    "\n"
   ]
  },
  {
   "cell_type": "code",
   "execution_count": 235,
   "id": "52aab864-e655-4776-b32a-dd04ecf8fad9",
   "metadata": {},
   "outputs": [
    {
     "data": {
      "text/plain": [
       "[<matplotlib.lines.Line2D at 0x1600feb50>]"
      ]
     },
     "execution_count": 235,
     "metadata": {},
     "output_type": "execute_result"
    },
    {
     "data": {
      "image/png": "[encoded data removed]",
      "text/plain": [
       "<Figure size 640x480 with 1 Axes>"
      ]
     },
     "metadata": {},
     "output_type": "display_data"
    }
   ],
   "source": [
    "plt.plot(all_losses)"
   ]
  },
  {
   "cell_type": "code",
   "execution_count": 236,
   "id": "765aa4e2-d02f-4b0f-9b62-d52c1d056c63",
   "metadata": {},
   "outputs": [],
   "source": [
    "y_pred = model(val_x)\n",
    "max_index = torch.argmax(y_pred, dim=1)"
   ]
  },
  {
   "cell_type": "code",
   "execution_count": 237,
   "id": "3d32e978-6473-46e4-888b-4d80d44eecef",
   "metadata": {},
   "outputs": [
    {
     "name": "stdout",
     "output_type": "stream",
     "text": [
      "0.9666666666666667\n"
     ]
    }
   ],
   "source": [
    "accuracy = accuracy_score(max_index, val_y)\n",
    "print(accuracy)"
   ]
  },
  {
   "cell_type": "code",
   "execution_count": null,
   "id": "e3631786-7c07-46d2-a3b0-95b020d7a848",
   "metadata": {},
   "outputs": [],
   "source": []
  }
 ],
 "metadata": {
  "kernelspec": {
   "display_name": "Python 3 (ipykernel)",
   "language": "python",
   "name": "python3"
  },
  "language_info": {
   "codemirror_mode": {
    "name": "ipython",
    "version": 3
   },
   "file_extension": ".py",
   "mimetype": "text/x-python",
   "name": "python",
   "nbconvert_exporter": "python",
   "pygments_lexer": "ipython3",
   "version": "3.11.7"
  }
 },
 "nbformat": 4,
 "nbformat_minor": 5
}
